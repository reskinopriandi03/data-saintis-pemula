{
 "cells": [
  {
   "attachments": {},
   "cell_type": "markdown",
   "metadata": {},
   "source": [
    "# Proyek Analisis Data: Bike Sharing Dataset\n",
    "- Nama: reski nopriandi\n",
    "- Email: reskinopriandi@gmail.com\n",
    "- Id Dicoding:"
   ]
  },
  {
   "attachments": {},
   "cell_type": "markdown",
   "metadata": {},
   "source": [
    "## Menentukan Pertanyaan Bisnis"
   ]
  },
  {
   "attachments": {},
   "cell_type": "markdown",
   "metadata": {},
   "source": [
    "- pertanyaan 1 = pada musim apa penyewaan paling banyak dilakukan\n",
    "- pertanyaan 2 = pada jam berapa paling banyak dilakukan penyewaan"
   ]
  },
  {
   "attachments": {},
   "cell_type": "markdown",
   "metadata": {},
   "source": [
    "## Menyaipkan semua library yang dibuthkan"
   ]
  },
  {
   "cell_type": "code",
   "execution_count": 3,
   "metadata": {},
   "outputs": [],
   "source": [
    "import numpy as np\n",
    "import pandas as pd\n",
    "import matplotlib.pyplot as plt\n",
    "import seaborn as sns"
   ]
  },
  {
   "attachments": {},
   "cell_type": "markdown",
   "metadata": {},
   "source": [
    "## Data Wrangling"
   ]
  },
  {
   "attachments": {},
   "cell_type": "markdown",
   "metadata": {},
   "source": [
    "### Gathering Data"
   ]
  },
  {
   "cell_type": "code",
   "execution_count": 4,
   "metadata": {},
   "outputs": [
    {
     "name": "stdout",
     "output_type": "stream",
     "text": [
      "       instant      dteday  season  yr  mnth  hr  holiday  weekday  \\\n",
      "0            1  2011-01-01       1   0     1   0        0        6   \n",
      "1            2  2011-01-01       1   0     1   1        0        6   \n",
      "2            3  2011-01-01       1   0     1   2        0        6   \n",
      "3            4  2011-01-01       1   0     1   3        0        6   \n",
      "4            5  2011-01-01       1   0     1   4        0        6   \n",
      "...        ...         ...     ...  ..   ...  ..      ...      ...   \n",
      "17374    17375  2012-12-31       1   1    12  19        0        1   \n",
      "17375    17376  2012-12-31       1   1    12  20        0        1   \n",
      "17376    17377  2012-12-31       1   1    12  21        0        1   \n",
      "17377    17378  2012-12-31       1   1    12  22        0        1   \n",
      "17378    17379  2012-12-31       1   1    12  23        0        1   \n",
      "\n",
      "       workingday  weathersit  temp   atemp   hum  windspeed  casual  \\\n",
      "0               0           1  0.24  0.2879  0.81     0.0000       3   \n",
      "1               0           1  0.22  0.2727  0.80     0.0000       8   \n",
      "2               0           1  0.22  0.2727  0.80     0.0000       5   \n",
      "3               0           1  0.24  0.2879  0.75     0.0000       3   \n",
      "4               0           1  0.24  0.2879  0.75     0.0000       0   \n",
      "...           ...         ...   ...     ...   ...        ...     ...   \n",
      "17374           1           2  0.26  0.2576  0.60     0.1642      11   \n",
      "17375           1           2  0.26  0.2576  0.60     0.1642       8   \n",
      "17376           1           1  0.26  0.2576  0.60     0.1642       7   \n",
      "17377           1           1  0.26  0.2727  0.56     0.1343      13   \n",
      "17378           1           1  0.26  0.2727  0.65     0.1343      12   \n",
      "\n",
      "       registered  cnt  \n",
      "0              13   16  \n",
      "1              32   40  \n",
      "2              27   32  \n",
      "3              10   13  \n",
      "4               1    1  \n",
      "...           ...  ...  \n",
      "17374         108  119  \n",
      "17375          81   89  \n",
      "17376          83   90  \n",
      "17377          48   61  \n",
      "17378          37   49  \n",
      "\n",
      "[17379 rows x 17 columns]\n",
      "<class 'pandas.core.frame.DataFrame'>\n",
      "RangeIndex: 17379 entries, 0 to 17378\n",
      "Data columns (total 17 columns):\n",
      " #   Column      Non-Null Count  Dtype  \n",
      "---  ------      --------------  -----  \n",
      " 0   instant     17379 non-null  int64  \n",
      " 1   dteday      17379 non-null  object \n",
      " 2   season      17379 non-null  int64  \n",
      " 3   yr          17379 non-null  int64  \n",
      " 4   mnth        17379 non-null  int64  \n",
      " 5   hr          17379 non-null  int64  \n",
      " 6   holiday     17379 non-null  int64  \n",
      " 7   weekday     17379 non-null  int64  \n",
      " 8   workingday  17379 non-null  int64  \n",
      " 9   weathersit  17379 non-null  int64  \n",
      " 10  temp        17379 non-null  float64\n",
      " 11  atemp       17379 non-null  float64\n",
      " 12  hum         17379 non-null  float64\n",
      " 13  windspeed   17379 non-null  float64\n",
      " 14  casual      17379 non-null  int64  \n",
      " 15  registered  17379 non-null  int64  \n",
      " 16  cnt         17379 non-null  int64  \n",
      "dtypes: float64(4), int64(12), object(1)\n",
      "memory usage: 2.3+ MB\n",
      "None\n"
     ]
    }
   ],
   "source": [
    "day_df = pd.read_csv(\"data\\day.csv\")\n",
    "#print(day_df)\n",
    "hour_df = pd.read_csv(\"data\\hour.csv\")\n",
    "print(hour_df)\n",
    "print(hour_df.info())"
   ]
  },
  {
   "attachments": {},
   "cell_type": "markdown",
   "metadata": {},
   "source": [
    "### Assessing Data"
   ]
  },
  {
   "cell_type": "code",
   "execution_count": 15,
   "metadata": {},
   "outputs": [
    {
     "name": "stdout",
     "output_type": "stream",
     "text": [
      "<class 'pandas.core.frame.DataFrame'>\n",
      "RangeIndex: 731 entries, 0 to 730\n",
      "Data columns (total 16 columns):\n",
      " #   Column      Non-Null Count  Dtype         \n",
      "---  ------      --------------  -----         \n",
      " 0   instant     731 non-null    int64         \n",
      " 1   dteday      731 non-null    datetime64[ns]\n",
      " 2   season      731 non-null    int64         \n",
      " 3   yr          731 non-null    int64         \n",
      " 4   mnth        731 non-null    int64         \n",
      " 5   holiday     731 non-null    int64         \n",
      " 6   weekday     731 non-null    int64         \n",
      " 7   workingday  731 non-null    int64         \n",
      " 8   weathersit  731 non-null    int64         \n",
      " 9   temp        731 non-null    float64       \n",
      " 10  atemp       731 non-null    float64       \n",
      " 11  hum         731 non-null    float64       \n",
      " 12  windspeed   731 non-null    float64       \n",
      " 13  casual      731 non-null    int64         \n",
      " 14  registered  731 non-null    int64         \n",
      " 15  cnt         731 non-null    int64         \n",
      "dtypes: datetime64[ns](1), float64(4), int64(11)\n",
      "memory usage: 91.5 KB\n"
     ]
    }
   ],
   "source": [
    "#periksa day_df\n",
    "day_df.info()"
   ]
  },
  {
   "cell_type": "markdown",
   "metadata": {},
   "source": [
    "\"\"\"Both hour.csv and day.csv have the following fields, except hr which is not available in day.csv\n",
    "\t\n",
    "\t- instant(int): record index\n",
    "\t- dteday(datetime) : date\n",
    "\t- season(int) : season (1:springer, 2:summer, 3:fall, 4:winter)\n",
    "\t- yr (int): year (0: 2011, 1:2012)\n",
    "\t- mnth (int): month ( 1 to 12)\n",
    "\t- hr (int): hour (0 to 23)\n",
    "\t- holiday (int): weather day is holiday or not (extracted from http://dchr.dc.gov/page/holiday-schedule)\n",
    "\t- weekday (int): day of the week\n",
    "\t- workingday (int): if day is neither weekend nor holiday is 1, otherwise is 0.\n",
    "\t+ weathersit (int): \n",
    "\t\t- 1: Clear, Few clouds, Partly cloudy, Partly cloudy\n",
    "\t\t- 2: Mist + Cloudy, Mist + Broken clouds, Mist + Few clouds, Mist\n",
    "\t\t- 3: Light Snow, Light Rain + Thunderstorm + Scattered clouds, Light Rain + Scattered clouds\n",
    "\t\t- 4: Heavy Rain + Ice Pallets + Thunderstorm + Mist, Snow + Fog\n",
    "\t- temp (float): Normalized temperature in Celsius. The values are divided to 41 (max)\n",
    "\t- atemp (float): Normalized feeling temperature in Celsius. The values are divided to 50 (max)\n",
    "\t- hum (float): Normalized humidity. The values are divided to 100 (max)\n",
    "\t- windspeed (float): Normalized wind speed. The values are divided to 67 (max)\n",
    "\t- casual (int): count of casual users\n",
    "\t- registered (int): count of registered users\n",
    "\t- cnt (int): count of total rental bikes including both casual and registered\"\"\"\n",
    "\n",
    "\n",
    "\t###perlu perubahan pada kolom dteday dari tipe data objek menjadi datetime\n",
    "\t###perlu merubah tipe data pada kolom season dari tipe data objek menjadi integer\n",
    "\t"
   ]
  },
  {
   "cell_type": "code",
   "execution_count": 7,
   "metadata": {},
   "outputs": [
    {
     "name": "stdout",
     "output_type": "stream",
     "text": [
      "instant       0\n",
      "dteday        0\n",
      "season        0\n",
      "yr            0\n",
      "mnth          0\n",
      "holiday       0\n",
      "weekday       0\n",
      "workingday    0\n",
      "weathersit    0\n",
      "temp          0\n",
      "atemp         0\n",
      "hum           0\n",
      "windspeed     0\n",
      "casual        0\n",
      "registered    0\n",
      "cnt           0\n",
      "dtype: int64\n"
     ]
    }
   ],
   "source": [
    "###periksa missing value day_df\n",
    "print(day_df.isna().sum())"
   ]
  },
  {
   "cell_type": "markdown",
   "metadata": {},
   "source": [
    "terdapat missing value karena tipe data dari kolom season adalah objek. perlu dirubah menjadi int"
   ]
  },
  {
   "cell_type": "code",
   "execution_count": 8,
   "metadata": {},
   "outputs": [
    {
     "name": "stdout",
     "output_type": "stream",
     "text": [
      "jumlah duplikasi : 0\n"
     ]
    }
   ],
   "source": [
    "###periksa duplikasi day_df\n",
    "print(\"jumlah duplikasi : \" + str(day_df.duplicated().sum()))"
   ]
  },
  {
   "cell_type": "markdown",
   "metadata": {},
   "source": [
    "tidak terdapat duplikasi pada day_df"
   ]
  },
  {
   "cell_type": "code",
   "execution_count": 9,
   "metadata": {},
   "outputs": [
    {
     "name": "stdout",
     "output_type": "stream",
     "text": [
      "          instant      season          yr        mnth     holiday     weekday  \\\n",
      "count  731.000000  731.000000  731.000000  731.000000  731.000000  731.000000   \n",
      "mean   366.000000    2.496580    0.500684    6.519836    0.028728    2.997264   \n",
      "std    211.165812    1.110807    0.500342    3.451913    0.167155    2.004787   \n",
      "min      1.000000    1.000000    0.000000    1.000000    0.000000    0.000000   \n",
      "25%    183.500000    2.000000    0.000000    4.000000    0.000000    1.000000   \n",
      "50%    366.000000    3.000000    1.000000    7.000000    0.000000    3.000000   \n",
      "75%    548.500000    3.000000    1.000000   10.000000    0.000000    5.000000   \n",
      "max    731.000000    4.000000    1.000000   12.000000    1.000000    6.000000   \n",
      "\n",
      "       workingday  weathersit        temp       atemp         hum   windspeed  \\\n",
      "count  731.000000  731.000000  731.000000  731.000000  731.000000  731.000000   \n",
      "mean     0.683995    1.395349    0.495385    0.474354    0.627894    0.190486   \n",
      "std      0.465233    0.544894    0.183051    0.162961    0.142429    0.077498   \n",
      "min      0.000000    1.000000    0.059130    0.079070    0.000000    0.022392   \n",
      "25%      0.000000    1.000000    0.337083    0.337842    0.520000    0.134950   \n",
      "50%      1.000000    1.000000    0.498333    0.486733    0.626667    0.180975   \n",
      "75%      1.000000    2.000000    0.655417    0.608602    0.730209    0.233214   \n",
      "max      1.000000    3.000000    0.861667    0.840896    0.972500    0.507463   \n",
      "\n",
      "            casual   registered          cnt  \n",
      "count   731.000000   731.000000   731.000000  \n",
      "mean    848.176471  3656.172367  4504.348837  \n",
      "std     686.622488  1560.256377  1937.211452  \n",
      "min       2.000000    20.000000    22.000000  \n",
      "25%     315.500000  2497.000000  3152.000000  \n",
      "50%     713.000000  3662.000000  4548.000000  \n",
      "75%    1096.000000  4776.500000  5956.000000  \n",
      "max    3410.000000  6946.000000  8714.000000  \n"
     ]
    }
   ],
   "source": [
    "#cek parameter statistik\n",
    "print(day_df.describe())"
   ]
  },
  {
   "cell_type": "code",
   "execution_count": 10,
   "metadata": {},
   "outputs": [
    {
     "name": "stdout",
     "output_type": "stream",
     "text": [
      "<class 'pandas.core.frame.DataFrame'>\n",
      "RangeIndex: 17379 entries, 0 to 17378\n",
      "Data columns (total 17 columns):\n",
      " #   Column      Non-Null Count  Dtype  \n",
      "---  ------      --------------  -----  \n",
      " 0   instant     17379 non-null  int64  \n",
      " 1   dteday      17379 non-null  object \n",
      " 2   season      17379 non-null  int64  \n",
      " 3   yr          17379 non-null  int64  \n",
      " 4   mnth        17379 non-null  int64  \n",
      " 5   hr          17379 non-null  int64  \n",
      " 6   holiday     17379 non-null  int64  \n",
      " 7   weekday     17379 non-null  int64  \n",
      " 8   workingday  17379 non-null  int64  \n",
      " 9   weathersit  17379 non-null  int64  \n",
      " 10  temp        17379 non-null  float64\n",
      " 11  atemp       17379 non-null  float64\n",
      " 12  hum         17379 non-null  float64\n",
      " 13  windspeed   17379 non-null  float64\n",
      " 14  casual      17379 non-null  int64  \n",
      " 15  registered  17379 non-null  int64  \n",
      " 16  cnt         17379 non-null  int64  \n",
      "dtypes: float64(4), int64(12), object(1)\n",
      "memory usage: 2.3+ MB\n"
     ]
    }
   ],
   "source": [
    "######periksa hour_df\n",
    "hour_df.info()"
   ]
  },
  {
   "cell_type": "markdown",
   "metadata": {},
   "source": [
    "tidak ada yang perlu di perbaiki tipe data dari hour_df"
   ]
  },
  {
   "cell_type": "code",
   "execution_count": 11,
   "metadata": {},
   "outputs": [
    {
     "name": "stdout",
     "output_type": "stream",
     "text": [
      "instant       0\n",
      "dteday        0\n",
      "season        0\n",
      "yr            0\n",
      "mnth          0\n",
      "hr            0\n",
      "holiday       0\n",
      "weekday       0\n",
      "workingday    0\n",
      "weathersit    0\n",
      "temp          0\n",
      "atemp         0\n",
      "hum           0\n",
      "windspeed     0\n",
      "casual        0\n",
      "registered    0\n",
      "cnt           0\n",
      "dtype: int64\n"
     ]
    }
   ],
   "source": [
    "###periksa missing value hour_df\n",
    "print(hour_df.isna().sum())"
   ]
  },
  {
   "cell_type": "markdown",
   "metadata": {},
   "source": [
    "tidak terdapat missing value dari data hour_df"
   ]
  },
  {
   "cell_type": "code",
   "execution_count": 12,
   "metadata": {},
   "outputs": [
    {
     "name": "stdout",
     "output_type": "stream",
     "text": [
      "jumlah duplikasi : 0\n"
     ]
    }
   ],
   "source": [
    "####periksa duplikasi hour_df\n",
    "print(\"jumlah duplikasi : \" + str(hour_df.duplicated().sum()))"
   ]
  },
  {
   "cell_type": "markdown",
   "metadata": {},
   "source": [
    "tidak terdapat duplikasi pada hour_df"
   ]
  },
  {
   "cell_type": "code",
   "execution_count": 13,
   "metadata": {},
   "outputs": [
    {
     "name": "stdout",
     "output_type": "stream",
     "text": [
      "          instant        season            yr          mnth            hr  \\\n",
      "count  17379.0000  17379.000000  17379.000000  17379.000000  17379.000000   \n",
      "mean    8690.0000      2.501640      0.502561      6.537775     11.546752   \n",
      "std     5017.0295      1.106918      0.500008      3.438776      6.914405   \n",
      "min        1.0000      1.000000      0.000000      1.000000      0.000000   \n",
      "25%     4345.5000      2.000000      0.000000      4.000000      6.000000   \n",
      "50%     8690.0000      3.000000      1.000000      7.000000     12.000000   \n",
      "75%    13034.5000      3.000000      1.000000     10.000000     18.000000   \n",
      "max    17379.0000      4.000000      1.000000     12.000000     23.000000   \n",
      "\n",
      "            holiday       weekday    workingday    weathersit          temp  \\\n",
      "count  17379.000000  17379.000000  17379.000000  17379.000000  17379.000000   \n",
      "mean       0.028770      3.003683      0.682721      1.425283      0.496987   \n",
      "std        0.167165      2.005771      0.465431      0.639357      0.192556   \n",
      "min        0.000000      0.000000      0.000000      1.000000      0.020000   \n",
      "25%        0.000000      1.000000      0.000000      1.000000      0.340000   \n",
      "50%        0.000000      3.000000      1.000000      1.000000      0.500000   \n",
      "75%        0.000000      5.000000      1.000000      2.000000      0.660000   \n",
      "max        1.000000      6.000000      1.000000      4.000000      1.000000   \n",
      "\n",
      "              atemp           hum     windspeed        casual    registered  \\\n",
      "count  17379.000000  17379.000000  17379.000000  17379.000000  17379.000000   \n",
      "mean       0.475775      0.627229      0.190098     35.676218    153.786869   \n",
      "std        0.171850      0.192930      0.122340     49.305030    151.357286   \n",
      "min        0.000000      0.000000      0.000000      0.000000      0.000000   \n",
      "25%        0.333300      0.480000      0.104500      4.000000     34.000000   \n",
      "50%        0.484800      0.630000      0.194000     17.000000    115.000000   \n",
      "75%        0.621200      0.780000      0.253700     48.000000    220.000000   \n",
      "max        1.000000      1.000000      0.850700    367.000000    886.000000   \n",
      "\n",
      "                cnt  \n",
      "count  17379.000000  \n",
      "mean     189.463088  \n",
      "std      181.387599  \n",
      "min        1.000000  \n",
      "25%       40.000000  \n",
      "50%      142.000000  \n",
      "75%      281.000000  \n",
      "max      977.000000  \n"
     ]
    }
   ],
   "source": [
    "#cek parameter statistik\n",
    "print(hour_df.describe())"
   ]
  },
  {
   "cell_type": "markdown",
   "metadata": {},
   "source": [
    "############SUMMARY :\n",
    "pada data day_df :\n",
    "- tipe data dteday perlu dirubah menjadi datetime\n",
    "- tipe data dari season dari objek seharusnya menjadi integer"
   ]
  },
  {
   "attachments": {},
   "cell_type": "markdown",
   "metadata": {},
   "source": [
    "### Cleaning Data"
   ]
  },
  {
   "cell_type": "code",
   "execution_count": 19,
   "metadata": {},
   "outputs": [
    {
     "name": "stdout",
     "output_type": "stream",
     "text": [
      "<class 'pandas.core.frame.DataFrame'>\n",
      "RangeIndex: 731 entries, 0 to 730\n",
      "Data columns (total 16 columns):\n",
      " #   Column      Non-Null Count  Dtype         \n",
      "---  ------      --------------  -----         \n",
      " 0   instant     731 non-null    int64         \n",
      " 1   dteday      731 non-null    datetime64[ns]\n",
      " 2   season      731 non-null    int64         \n",
      " 3   yr          731 non-null    int64         \n",
      " 4   mnth        731 non-null    int64         \n",
      " 5   holiday     731 non-null    int64         \n",
      " 6   weekday     731 non-null    int64         \n",
      " 7   workingday  731 non-null    int64         \n",
      " 8   weathersit  731 non-null    int64         \n",
      " 9   temp        731 non-null    float64       \n",
      " 10  atemp       731 non-null    float64       \n",
      " 11  hum         731 non-null    float64       \n",
      " 12  windspeed   731 non-null    float64       \n",
      " 13  casual      731 non-null    int64         \n",
      " 14  registered  731 non-null    int64         \n",
      " 15  cnt         731 non-null    int64         \n",
      "dtypes: datetime64[ns](1), float64(4), int64(11)\n",
      "memory usage: 91.5 KB\n",
      "None\n"
     ]
    }
   ],
   "source": [
    "#merubah tipe data dteday pada tabel day_df menjadi datetime\n",
    "day_df[\"dteday\"] = pd.to_datetime(day_df[\"dteday\"])\n",
    "\n",
    "#merubah tipe data season dari objek menjadi kategori\n",
    "day_df[\"season\"] = day_df[\"season\"].astype('category')\n",
    "#merubah tipe data season dari category menjadi integer\n",
    "day_df['season'] = day_df['season'].cat.codes.astype('int64')\n",
    "\n",
    "#print(day_df.isna().sum())\n",
    "print(day_df.info())\n",
    "\n",
    "\n",
    "\n",
    "\n",
    "#merubah tipe data dteday pada tabel hour_df menjadi datetime\n",
    "hour_df[\"dteday\"] = pd.to_datetime(hour_df[\"dteday\"])\n",
    "#print(hour_df.info())\n",
    "#filter untuk menemukan order terbanyak di season yang mana\n",
    "#print(result_hour_sum)"
   ]
  },
  {
   "attachments": {},
   "cell_type": "markdown",
   "metadata": {},
   "source": [
    "## Exploratory Data Analysis (EDA)"
   ]
  },
  {
   "attachments": {},
   "cell_type": "markdown",
   "metadata": {},
   "source": [
    "### Explore ..."
   ]
  },
  {
   "cell_type": "markdown",
   "metadata": {},
   "source": [
    "- pertanyaan 1 = pada musim apa penyewaan paling banyak dilakukan\n",
    "- pertanyaan 2 = pada jam berapa paling banyak dilakukan penyewaan"
   ]
  },
  {
   "cell_type": "code",
   "execution_count": 29,
   "metadata": {},
   "outputs": [
    {
     "name": "stdout",
     "output_type": "stream",
     "text": [
      "   season     cnt\n",
      "0       1  150000\n",
      "1       2  347316\n",
      "2       3  419650\n",
      "3       4  326137\n",
      "   season     cnt\n",
      "0       1  321348\n",
      "1       2  571273\n",
      "2       3  641479\n",
      "3       4  515476\n",
      "    hr     cnt\n",
      "0    0   15540\n",
      "1    1    9558\n",
      "2    2    6661\n",
      "3    3    3441\n",
      "4    4    1817\n",
      "5    5    5157\n",
      "6    6   20801\n",
      "7    7   56930\n",
      "8    8   95467\n",
      "9    9   59486\n",
      "10  10   47511\n",
      "11  11   56598\n",
      "12  12   69198\n",
      "13  13   69339\n",
      "14  14   66482\n",
      "15  15   68590\n",
      "16  16   85622\n",
      "17  17  127632\n",
      "18  18  116985\n",
      "19  19   85802\n",
      "20  20   62818\n",
      "21  21   48875\n",
      "22  22   37677\n",
      "23  23   25116\n"
     ]
    }
   ],
   "source": [
    "###pertanyaan 1\n",
    "#jumlah penyewaan di tahun 2011 setiap musimnya\n",
    "result_season1 = day_df[day_df['yr'] == 0].groupby('season')['cnt'].sum().reset_index()\n",
    "result_season1['season'] = result_season1['season'] + 1\n",
    "print(result_season1)\n",
    "\n",
    "#jumlah penyewaan di tahun 2012 setiap musimnya\n",
    "result_season2 = day_df[day_df['yr'] == 1].groupby('season')['cnt'].sum().reset_index()\n",
    "result_season2['season'] = result_season2['season'] + 1\n",
    "print(result_season2)"
   ]
  },
  {
   "cell_type": "code",
   "execution_count": 34,
   "metadata": {},
   "outputs": [
    {
     "name": "stdout",
     "output_type": "stream",
     "text": [
      "    hr     cnt\n",
      "0    0   15540\n",
      "1    1    9558\n",
      "2    2    6661\n",
      "3    3    3441\n",
      "4    4    1817\n",
      "5    5    5157\n",
      "6    6   20801\n",
      "7    7   56930\n",
      "8    8   95467\n",
      "9    9   59486\n",
      "10  10   47511\n",
      "11  11   56598\n",
      "12  12   69198\n",
      "13  13   69339\n",
      "14  14   66482\n",
      "15  15   68590\n",
      "16  16   85622\n",
      "17  17  127632\n",
      "18  18  116985\n",
      "19  19   85802\n",
      "20  20   62818\n",
      "21  21   48875\n",
      "22  22   37677\n",
      "23  23   25116\n",
      "    hr     cnt\n",
      "0    0   23590\n",
      "1    1   14606\n",
      "2    2    9691\n",
      "3    3    4733\n",
      "4    4    2611\n",
      "5    5    9104\n",
      "6    6   34331\n",
      "7    7   97241\n",
      "8    8  165534\n",
      "9    9   99952\n",
      "10  10   78746\n",
      "11  11   94722\n",
      "12  12  115216\n",
      "13  13  115580\n",
      "14  14  109170\n",
      "15  15  114559\n",
      "16  16  142126\n",
      "17  17  209228\n",
      "18  18  192787\n",
      "19  19  140987\n",
      "20  20  101732\n",
      "21  21   76570\n",
      "22  22   57935\n",
      "23  23   38825\n"
     ]
    }
   ],
   "source": [
    "#pertanyaan 2\n",
    "#jumlah banyak pengunjung di tahun 2011 menururt jam operasional\n",
    "result_hour1 = hour_df[hour_df['yr'] == 0].groupby('hr')['cnt'].sum().reset_index()\n",
    "result_hour1['hr'] = result_hour1['hr']\n",
    "print(result_hour1)\n",
    "\n",
    "#jumlah banyak pengunjung di tahun 2012 menururt jam operasional\n",
    "result_hour2 = hour_df[hour_df['yr'] == 1].groupby('hr')['cnt'].sum().reset_index()\n",
    "result_hour2['hr'] = result_hour2['hr']\n",
    "print(result_hour2)"
   ]
  },
  {
   "attachments": {},
   "cell_type": "markdown",
   "metadata": {},
   "source": [
    "## Visualization & Explanatory Analysis"
   ]
  },
  {
   "attachments": {},
   "cell_type": "markdown",
   "metadata": {},
   "source": [
    "### Pertanyaan 1: "
   ]
  },
  {
   "cell_type": "code",
   "execution_count": 41,
   "metadata": {},
   "outputs": [
    {
     "data": {
      "image/png": "[encoded data removed]",
      "text/plain": [
       "<Figure size 1000x600 with 1 Axes>"
      ]
     },
     "metadata": {},
     "output_type": "display_data"
    }
   ],
   "source": [
    "\"\"\"plt.figure(figsize=(8, 6))\n",
    "plt.bar(result_season1['season'], result_season1['cnt'], color='skyblue')\n",
    "plt.xlabel('Musim')\n",
    "plt.ylabel('Jumlah Penyewaan')\n",
    "plt.title('Jumlah Penyewaan di Tahun 2011 untuk Setiap Musim')\n",
    "plt.xticks(result_season1['season'], ['Spring', 'Summer', 'Fall', 'Winter'])  # Mengganti label sumbu x dengan musim\n",
    "plt.show()\"\"\"\n",
    "\n",
    "# Menggabungkan kedua hasil perhitungan\n",
    "merged_seasons = result_season1.merge(result_season2, on='season', suffixes=('_2011', '_2012'))\n",
    "# Membuat posisi untuk setiap musim pada sumbu x\n",
    "bar_width = 0.35  # Lebar setiap bar\n",
    "r1 = np.arange(len(merged_seasons))  # Posisi untuk tahun 2011\n",
    "r2 = [x + bar_width for x in r1]  # Posisi untuk tahun 2012\n",
    "\n",
    "# Plotting\n",
    "plt.figure(figsize=(10, 6))\n",
    "\n",
    "# Grafik bar untuk tahun 2011\n",
    "plt.bar(r1, merged_seasons['cnt_2011'], color='skyblue', width=bar_width, edgecolor='grey', label='2011')\n",
    "\n",
    "# Grafik bar untuk tahun 2012\n",
    "plt.bar(r2, merged_seasons['cnt_2012'], color='orange', width=bar_width, edgecolor='grey', alpha=0.7, label='2012')\n",
    "\n",
    "plt.xlabel('Season')\n",
    "plt.ylabel('Jumlah Penyewaan')\n",
    "plt.title('Perbandingan Jumlah Penyewaan di Tahun 2011 dan 2012 untuk Setiap Musim')\n",
    "plt.xticks([r + bar_width / 2 for r in range(len(merged_seasons))], ['Spring', 'Summer', 'Fall', 'Winter'])\n",
    "\n",
    "plt.legend()\n",
    "plt.show()"
   ]
  },
  {
   "cell_type": "markdown",
   "metadata": {},
   "source": [
    "#####pada diagram diatas terlihat bahwa banyak penyewaan terjadi pada fall-season. terlihat juga peningkatan terjadi secara umum pada tahun berikutnya"
   ]
  },
  {
   "attachments": {},
   "cell_type": "markdown",
   "metadata": {},
   "source": [
    "### Pertanyaan 2: "
   ]
  },
  {
   "cell_type": "code",
   "execution_count": 43,
   "metadata": {},
   "outputs": [
    {
     "data": {
      "image/png": "[encoded data removed]",
      "text/plain": [
       "<Figure size 1200x600 with 1 Axes>"
      ]
     },
     "metadata": {},
     "output_type": "display_data"
    }
   ],
   "source": [
    "# Membuat posisi untuk setiap jam operasional pada sumbu x\n",
    "bar_width = 0.35  # Lebar setiap bar\n",
    "r1 = np.arange(len(result_hour1))  # Posisi untuk tahun 2011\n",
    "r2 = [x + bar_width for x in r1]  # Posisi untuk tahun 2012\n",
    "\n",
    "# Plotting\n",
    "plt.figure(figsize=(12, 6))\n",
    "\n",
    "# Grafik bar untuk tahun 2011\n",
    "plt.bar(r1, result_hour1['cnt'], color='skyblue', width=bar_width, edgecolor='grey', label='2011')\n",
    "\n",
    "# Grafik bar untuk tahun 2012\n",
    "plt.bar(r2, result_hour2['cnt'], color='orange', width=bar_width, edgecolor='grey', alpha=0.7, label='2012')\n",
    "\n",
    "plt.xlabel('Jam Operasional')\n",
    "plt.ylabel('Jumlah Pengunjung')\n",
    "plt.title('Perbandingan Jumlah Pengunjung pada Jam Operasional antara Tahun 2011 dan 2012')\n",
    "plt.xticks([r + bar_width / 2 for r in range(len(result_hour1))], result_hour1['hr'])  # Memberikan label jam operasional pada sumbu x\n",
    "plt.legend()\n",
    "plt.show()\n"
   ]
  },
  {
   "attachments": {},
   "cell_type": "markdown",
   "metadata": {},
   "source": [
    "## Conclusion"
   ]
  },
  {
   "attachments": {},
   "cell_type": "markdown",
   "metadata": {},
   "source": [
    "- Conclution pertanyaan 1\n",
    "pada diagram tersebut terlihat bahwa banyak penyewaan terjadi pada fall-season. terlihat juga peningkatan terjadi secara umum pada tahun berikutnya\n",
    "- conclution pertanyaan 2\n",
    "pada diagram ini terlihat umumnya penyewaan dilakukan mulai pukul 16.00 - 19.00, dan dilakukan dipagi hari pada pukul 08.00 pagi.\n",
    "ternyata dapat dilihat pada dini hari masih saja ada yang menyewa sepeda."
   ]
  },
  {
   "cell_type": "markdown",
   "metadata": {},
   "source": []
  },
  {
   "cell_type": "code",
   "execution_count": 6,
   "metadata": {},
   "outputs": [
    {
     "name": "stdout",
     "output_type": "stream",
     "text": [
      "<class 'pandas.core.frame.DataFrame'>\n",
      "RangeIndex: 17379 entries, 0 to 17378\n",
      "Data columns (total 17 columns):\n",
      " #   Column      Non-Null Count  Dtype  \n",
      "---  ------      --------------  -----  \n",
      " 0   instant     17379 non-null  int64  \n",
      " 1   dteday      17379 non-null  object \n",
      " 2   season      17379 non-null  int64  \n",
      " 3   yr          17379 non-null  int64  \n",
      " 4   mnth        17379 non-null  int64  \n",
      " 5   hr          17379 non-null  int64  \n",
      " 6   holiday     17379 non-null  int64  \n",
      " 7   weekday     17379 non-null  int64  \n",
      " 8   workingday  17379 non-null  int64  \n",
      " 9   weathersit  17379 non-null  int64  \n",
      " 10  temp        17379 non-null  float64\n",
      " 11  atemp       17379 non-null  float64\n",
      " 12  hum         17379 non-null  float64\n",
      " 13  windspeed   17379 non-null  float64\n",
      " 14  casual      17379 non-null  int64  \n",
      " 15  registered  17379 non-null  int64  \n",
      " 16  cnt         17379 non-null  int64  \n",
      "dtypes: float64(4), int64(12), object(1)\n",
      "memory usage: 2.3+ MB\n",
      "None\n"
     ]
    }
   ],
   "source": [
    "#penyimpanan file\n",
    "#hour_df.to_csv('hour_df.csv', index=False)\n",
    "#day_df.to_csv('day_df.csv', index=False)\n",
    "\n"
   ]
  }
 ],
 "metadata": {
  "kernelspec": {
   "display_name": "Python 3",
   "language": "python",
   "name": "python3"
  },
  "language_info": {
   "codemirror_mode": {
    "name": "ipython",
    "version": 3
   },
   "file_extension": ".py",
   "mimetype": "text/x-python",
   "name": "python",
   "nbconvert_exporter": "python",
   "pygments_lexer": "ipython3",
   "version": "3.11.5"
  },
  "orig_nbformat": 4,
  "vscode": {
   "interpreter": {
    "hash": "972b3bf27e332e87b5379f2791f6ef9dfc79c71018c370b0d7423235e20fe4d7"
   }
  }
 },
 "nbformat": 4,
 "nbformat_minor": 2
}
